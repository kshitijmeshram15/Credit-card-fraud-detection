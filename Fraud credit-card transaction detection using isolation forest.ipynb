{
 "cells": [
  {
   "cell_type": "code",
   "execution_count": 1,
   "id": "ffe89784",
   "metadata": {},
   "outputs": [],
   "source": [
    "import pandas as pd\n",
    "import numpy as np\n",
    "import matplotlib.pyplot as plt \n",
    "%matplotlib inline\n",
    "import seaborn as sns"
   ]
  },
  {
   "cell_type": "code",
   "execution_count": 2,
   "id": "570bcbb8",
   "metadata": {},
   "outputs": [],
   "source": [
    "df=pd.read_csv('creditcard.csv') \n"
   ]
  },
  {
   "cell_type": "code",
   "execution_count": 3,
   "id": "93837c5e",
   "metadata": {},
   "outputs": [
    {
     "data": {
      "text/plain": [
       "0    284315\n",
       "1       492\n",
       "Name: Class, dtype: int64"
      ]
     },
     "execution_count": 3,
     "metadata": {},
     "output_type": "execute_result"
    }
   ],
   "source": [
    "#It is a highly imbalanced dataset.\n",
    "df['Class'].value_counts()"
   ]
  },
  {
   "cell_type": "code",
   "execution_count": 4,
   "id": "20a07f88",
   "metadata": {},
   "outputs": [],
   "source": [
    "#Take sample of data\n",
    "df_new=df.sample(frac=0.1,random_state=42)"
   ]
  },
  {
   "cell_type": "code",
   "execution_count": 5,
   "id": "fc7fcb88",
   "metadata": {},
   "outputs": [
    {
     "data": {
      "text/plain": [
       "(284807, 31)"
      ]
     },
     "execution_count": 5,
     "metadata": {},
     "output_type": "execute_result"
    }
   ],
   "source": [
    "df.shape"
   ]
  },
  {
   "cell_type": "code",
   "execution_count": 6,
   "id": "ed1d304c",
   "metadata": {},
   "outputs": [
    {
     "data": {
      "text/plain": [
       "(28481, 31)"
      ]
     },
     "execution_count": 6,
     "metadata": {},
     "output_type": "execute_result"
    }
   ],
   "source": [
    "df_new.shape"
   ]
  },
  {
   "cell_type": "code",
   "execution_count": 7,
   "id": "e36fb1e1",
   "metadata": {},
   "outputs": [],
   "source": [
    "#separating the data \n",
    "legit=df_new[df_new['Class']==0]"
   ]
  },
  {
   "cell_type": "code",
   "execution_count": 8,
   "id": "af297a64",
   "metadata": {},
   "outputs": [],
   "source": [
    "fraud=df_new[df_new['Class']==1]"
   ]
  },
  {
   "cell_type": "code",
   "execution_count": 9,
   "id": "4b12607f",
   "metadata": {},
   "outputs": [
    {
     "data": {
      "text/html": [
       "<div>\n",
       "<style scoped>\n",
       "    .dataframe tbody tr th:only-of-type {\n",
       "        vertical-align: middle;\n",
       "    }\n",
       "\n",
       "    .dataframe tbody tr th {\n",
       "        vertical-align: top;\n",
       "    }\n",
       "\n",
       "    .dataframe thead th {\n",
       "        text-align: right;\n",
       "    }\n",
       "</style>\n",
       "<table border=\"1\" class=\"dataframe\">\n",
       "  <thead>\n",
       "    <tr style=\"text-align: right;\">\n",
       "      <th></th>\n",
       "      <th>Time</th>\n",
       "      <th>V1</th>\n",
       "      <th>V2</th>\n",
       "      <th>V3</th>\n",
       "      <th>V4</th>\n",
       "      <th>V5</th>\n",
       "      <th>V6</th>\n",
       "      <th>V7</th>\n",
       "      <th>V8</th>\n",
       "      <th>V9</th>\n",
       "      <th>...</th>\n",
       "      <th>V21</th>\n",
       "      <th>V22</th>\n",
       "      <th>V23</th>\n",
       "      <th>V24</th>\n",
       "      <th>V25</th>\n",
       "      <th>V26</th>\n",
       "      <th>V27</th>\n",
       "      <th>V28</th>\n",
       "      <th>Amount</th>\n",
       "      <th>Class</th>\n",
       "    </tr>\n",
       "  </thead>\n",
       "  <tbody>\n",
       "    <tr>\n",
       "      <th>43428</th>\n",
       "      <td>41505.0</td>\n",
       "      <td>-16.526507</td>\n",
       "      <td>8.584972</td>\n",
       "      <td>-18.649853</td>\n",
       "      <td>9.505594</td>\n",
       "      <td>-13.793819</td>\n",
       "      <td>-2.832404</td>\n",
       "      <td>-16.701694</td>\n",
       "      <td>7.517344</td>\n",
       "      <td>-8.507059</td>\n",
       "      <td>...</td>\n",
       "      <td>1.190739</td>\n",
       "      <td>-1.127670</td>\n",
       "      <td>-2.358579</td>\n",
       "      <td>0.673461</td>\n",
       "      <td>-1.413700</td>\n",
       "      <td>-0.462762</td>\n",
       "      <td>-2.018575</td>\n",
       "      <td>-1.042804</td>\n",
       "      <td>364.19</td>\n",
       "      <td>1</td>\n",
       "    </tr>\n",
       "    <tr>\n",
       "      <th>116404</th>\n",
       "      <td>74262.0</td>\n",
       "      <td>-2.250535</td>\n",
       "      <td>2.365755</td>\n",
       "      <td>-2.955491</td>\n",
       "      <td>0.089791</td>\n",
       "      <td>-2.830745</td>\n",
       "      <td>-0.844462</td>\n",
       "      <td>-0.174062</td>\n",
       "      <td>-0.407138</td>\n",
       "      <td>0.174216</td>\n",
       "      <td>...</td>\n",
       "      <td>0.256560</td>\n",
       "      <td>-0.466245</td>\n",
       "      <td>0.291105</td>\n",
       "      <td>0.242567</td>\n",
       "      <td>-1.279094</td>\n",
       "      <td>-1.123534</td>\n",
       "      <td>-0.630977</td>\n",
       "      <td>0.326839</td>\n",
       "      <td>311.28</td>\n",
       "      <td>1</td>\n",
       "    </tr>\n",
       "    <tr>\n",
       "      <th>215984</th>\n",
       "      <td>140308.0</td>\n",
       "      <td>-4.861747</td>\n",
       "      <td>-2.722660</td>\n",
       "      <td>-4.656248</td>\n",
       "      <td>2.502005</td>\n",
       "      <td>-2.008346</td>\n",
       "      <td>0.615422</td>\n",
       "      <td>-3.485680</td>\n",
       "      <td>1.878856</td>\n",
       "      <td>-1.116268</td>\n",
       "      <td>...</td>\n",
       "      <td>1.138876</td>\n",
       "      <td>1.033664</td>\n",
       "      <td>-0.806199</td>\n",
       "      <td>-1.511046</td>\n",
       "      <td>-0.191731</td>\n",
       "      <td>0.080999</td>\n",
       "      <td>1.215152</td>\n",
       "      <td>-0.923142</td>\n",
       "      <td>592.90</td>\n",
       "      <td>1</td>\n",
       "    </tr>\n",
       "    <tr>\n",
       "      <th>249239</th>\n",
       "      <td>154309.0</td>\n",
       "      <td>-0.082983</td>\n",
       "      <td>-3.935919</td>\n",
       "      <td>-2.616709</td>\n",
       "      <td>0.163310</td>\n",
       "      <td>-1.400952</td>\n",
       "      <td>-0.809419</td>\n",
       "      <td>1.501580</td>\n",
       "      <td>-0.471000</td>\n",
       "      <td>1.519743</td>\n",
       "      <td>...</td>\n",
       "      <td>0.702672</td>\n",
       "      <td>-0.182305</td>\n",
       "      <td>-0.921017</td>\n",
       "      <td>0.111635</td>\n",
       "      <td>-0.071622</td>\n",
       "      <td>-1.125881</td>\n",
       "      <td>-0.170947</td>\n",
       "      <td>0.126221</td>\n",
       "      <td>1096.99</td>\n",
       "      <td>1</td>\n",
       "    </tr>\n",
       "    <tr>\n",
       "      <th>146790</th>\n",
       "      <td>87883.0</td>\n",
       "      <td>-1.360293</td>\n",
       "      <td>-0.458069</td>\n",
       "      <td>-0.700404</td>\n",
       "      <td>2.737229</td>\n",
       "      <td>-1.005106</td>\n",
       "      <td>2.891399</td>\n",
       "      <td>5.802537</td>\n",
       "      <td>-1.933197</td>\n",
       "      <td>-1.017717</td>\n",
       "      <td>...</td>\n",
       "      <td>-0.936990</td>\n",
       "      <td>-0.053812</td>\n",
       "      <td>0.580106</td>\n",
       "      <td>0.216927</td>\n",
       "      <td>0.151643</td>\n",
       "      <td>-0.332115</td>\n",
       "      <td>-0.469800</td>\n",
       "      <td>-1.495006</td>\n",
       "      <td>829.41</td>\n",
       "      <td>1</td>\n",
       "    </tr>\n",
       "  </tbody>\n",
       "</table>\n",
       "<p>5 rows × 31 columns</p>\n",
       "</div>"
      ],
      "text/plain": [
       "            Time         V1        V2         V3        V4         V5  \\\n",
       "43428    41505.0 -16.526507  8.584972 -18.649853  9.505594 -13.793819   \n",
       "116404   74262.0  -2.250535  2.365755  -2.955491  0.089791  -2.830745   \n",
       "215984  140308.0  -4.861747 -2.722660  -4.656248  2.502005  -2.008346   \n",
       "249239  154309.0  -0.082983 -3.935919  -2.616709  0.163310  -1.400952   \n",
       "146790   87883.0  -1.360293 -0.458069  -0.700404  2.737229  -1.005106   \n",
       "\n",
       "              V6         V7        V8        V9  ...       V21       V22  \\\n",
       "43428  -2.832404 -16.701694  7.517344 -8.507059  ...  1.190739 -1.127670   \n",
       "116404 -0.844462  -0.174062 -0.407138  0.174216  ...  0.256560 -0.466245   \n",
       "215984  0.615422  -3.485680  1.878856 -1.116268  ...  1.138876  1.033664   \n",
       "249239 -0.809419   1.501580 -0.471000  1.519743  ...  0.702672 -0.182305   \n",
       "146790  2.891399   5.802537 -1.933197 -1.017717  ... -0.936990 -0.053812   \n",
       "\n",
       "             V23       V24       V25       V26       V27       V28   Amount  \\\n",
       "43428  -2.358579  0.673461 -1.413700 -0.462762 -2.018575 -1.042804   364.19   \n",
       "116404  0.291105  0.242567 -1.279094 -1.123534 -0.630977  0.326839   311.28   \n",
       "215984 -0.806199 -1.511046 -0.191731  0.080999  1.215152 -0.923142   592.90   \n",
       "249239 -0.921017  0.111635 -0.071622 -1.125881 -0.170947  0.126221  1096.99   \n",
       "146790  0.580106  0.216927  0.151643 -0.332115 -0.469800 -1.495006   829.41   \n",
       "\n",
       "        Class  \n",
       "43428       1  \n",
       "116404      1  \n",
       "215984      1  \n",
       "249239      1  \n",
       "146790      1  \n",
       "\n",
       "[5 rows x 31 columns]"
      ]
     },
     "execution_count": 9,
     "metadata": {},
     "output_type": "execute_result"
    }
   ],
   "source": [
    "fraud.head()"
   ]
  },
  {
   "cell_type": "code",
   "execution_count": 10,
   "id": "75c273b5",
   "metadata": {},
   "outputs": [
    {
     "data": {
      "text/html": [
       "<div>\n",
       "<style scoped>\n",
       "    .dataframe tbody tr th:only-of-type {\n",
       "        vertical-align: middle;\n",
       "    }\n",
       "\n",
       "    .dataframe tbody tr th {\n",
       "        vertical-align: top;\n",
       "    }\n",
       "\n",
       "    .dataframe thead th {\n",
       "        text-align: right;\n",
       "    }\n",
       "</style>\n",
       "<table border=\"1\" class=\"dataframe\">\n",
       "  <thead>\n",
       "    <tr style=\"text-align: right;\">\n",
       "      <th></th>\n",
       "      <th>Time</th>\n",
       "      <th>V1</th>\n",
       "      <th>V2</th>\n",
       "      <th>V3</th>\n",
       "      <th>V4</th>\n",
       "      <th>V5</th>\n",
       "      <th>V6</th>\n",
       "      <th>V7</th>\n",
       "      <th>V8</th>\n",
       "      <th>V9</th>\n",
       "      <th>...</th>\n",
       "      <th>V21</th>\n",
       "      <th>V22</th>\n",
       "      <th>V23</th>\n",
       "      <th>V24</th>\n",
       "      <th>V25</th>\n",
       "      <th>V26</th>\n",
       "      <th>V27</th>\n",
       "      <th>V28</th>\n",
       "      <th>Amount</th>\n",
       "      <th>Class</th>\n",
       "    </tr>\n",
       "  </thead>\n",
       "  <tbody>\n",
       "    <tr>\n",
       "      <th>49906</th>\n",
       "      <td>44261.0</td>\n",
       "      <td>0.339812</td>\n",
       "      <td>-2.743745</td>\n",
       "      <td>-0.134070</td>\n",
       "      <td>-1.385729</td>\n",
       "      <td>-1.451413</td>\n",
       "      <td>1.015887</td>\n",
       "      <td>-0.524379</td>\n",
       "      <td>0.224060</td>\n",
       "      <td>0.899746</td>\n",
       "      <td>...</td>\n",
       "      <td>-0.213436</td>\n",
       "      <td>-0.942525</td>\n",
       "      <td>-0.526819</td>\n",
       "      <td>-1.156992</td>\n",
       "      <td>0.311211</td>\n",
       "      <td>-0.746647</td>\n",
       "      <td>0.040996</td>\n",
       "      <td>0.102038</td>\n",
       "      <td>520.12</td>\n",
       "      <td>0</td>\n",
       "    </tr>\n",
       "    <tr>\n",
       "      <th>29474</th>\n",
       "      <td>35484.0</td>\n",
       "      <td>1.399590</td>\n",
       "      <td>-0.590701</td>\n",
       "      <td>0.168619</td>\n",
       "      <td>-1.029950</td>\n",
       "      <td>-0.539806</td>\n",
       "      <td>0.040444</td>\n",
       "      <td>-0.712567</td>\n",
       "      <td>0.002299</td>\n",
       "      <td>-0.971747</td>\n",
       "      <td>...</td>\n",
       "      <td>0.102398</td>\n",
       "      <td>0.168269</td>\n",
       "      <td>-0.166639</td>\n",
       "      <td>-0.810250</td>\n",
       "      <td>0.505083</td>\n",
       "      <td>-0.232340</td>\n",
       "      <td>0.011409</td>\n",
       "      <td>0.004634</td>\n",
       "      <td>31.00</td>\n",
       "      <td>0</td>\n",
       "    </tr>\n",
       "    <tr>\n",
       "      <th>276481</th>\n",
       "      <td>167123.0</td>\n",
       "      <td>-0.432071</td>\n",
       "      <td>1.647895</td>\n",
       "      <td>-1.669361</td>\n",
       "      <td>-0.349504</td>\n",
       "      <td>0.785785</td>\n",
       "      <td>-0.630647</td>\n",
       "      <td>0.276990</td>\n",
       "      <td>0.586025</td>\n",
       "      <td>-0.484715</td>\n",
       "      <td>...</td>\n",
       "      <td>0.358932</td>\n",
       "      <td>0.873663</td>\n",
       "      <td>-0.178642</td>\n",
       "      <td>-0.017171</td>\n",
       "      <td>-0.207392</td>\n",
       "      <td>-0.157756</td>\n",
       "      <td>-0.237386</td>\n",
       "      <td>0.001934</td>\n",
       "      <td>1.50</td>\n",
       "      <td>0</td>\n",
       "    </tr>\n",
       "    <tr>\n",
       "      <th>278846</th>\n",
       "      <td>168473.0</td>\n",
       "      <td>2.014160</td>\n",
       "      <td>-0.137394</td>\n",
       "      <td>-1.015839</td>\n",
       "      <td>0.327269</td>\n",
       "      <td>-0.182179</td>\n",
       "      <td>-0.956571</td>\n",
       "      <td>0.043241</td>\n",
       "      <td>-0.160746</td>\n",
       "      <td>0.363241</td>\n",
       "      <td>...</td>\n",
       "      <td>-0.238644</td>\n",
       "      <td>-0.616400</td>\n",
       "      <td>0.347045</td>\n",
       "      <td>0.061561</td>\n",
       "      <td>-0.360196</td>\n",
       "      <td>0.174730</td>\n",
       "      <td>-0.078043</td>\n",
       "      <td>-0.070571</td>\n",
       "      <td>0.89</td>\n",
       "      <td>0</td>\n",
       "    </tr>\n",
       "    <tr>\n",
       "      <th>101565</th>\n",
       "      <td>67878.0</td>\n",
       "      <td>-0.641330</td>\n",
       "      <td>-0.057304</td>\n",
       "      <td>1.489998</td>\n",
       "      <td>-1.688131</td>\n",
       "      <td>-1.151043</td>\n",
       "      <td>0.259996</td>\n",
       "      <td>-1.391069</td>\n",
       "      <td>-2.334075</td>\n",
       "      <td>1.168644</td>\n",
       "      <td>...</td>\n",
       "      <td>-1.231634</td>\n",
       "      <td>0.257164</td>\n",
       "      <td>-0.371953</td>\n",
       "      <td>-0.038566</td>\n",
       "      <td>1.397514</td>\n",
       "      <td>-0.665947</td>\n",
       "      <td>0.031003</td>\n",
       "      <td>0.180357</td>\n",
       "      <td>100.00</td>\n",
       "      <td>0</td>\n",
       "    </tr>\n",
       "  </tbody>\n",
       "</table>\n",
       "<p>5 rows × 31 columns</p>\n",
       "</div>"
      ],
      "text/plain": [
       "            Time        V1        V2        V3        V4        V5        V6  \\\n",
       "49906    44261.0  0.339812 -2.743745 -0.134070 -1.385729 -1.451413  1.015887   \n",
       "29474    35484.0  1.399590 -0.590701  0.168619 -1.029950 -0.539806  0.040444   \n",
       "276481  167123.0 -0.432071  1.647895 -1.669361 -0.349504  0.785785 -0.630647   \n",
       "278846  168473.0  2.014160 -0.137394 -1.015839  0.327269 -0.182179 -0.956571   \n",
       "101565   67878.0 -0.641330 -0.057304  1.489998 -1.688131 -1.151043  0.259996   \n",
       "\n",
       "              V7        V8        V9  ...       V21       V22       V23  \\\n",
       "49906  -0.524379  0.224060  0.899746  ... -0.213436 -0.942525 -0.526819   \n",
       "29474  -0.712567  0.002299 -0.971747  ...  0.102398  0.168269 -0.166639   \n",
       "276481  0.276990  0.586025 -0.484715  ...  0.358932  0.873663 -0.178642   \n",
       "278846  0.043241 -0.160746  0.363241  ... -0.238644 -0.616400  0.347045   \n",
       "101565 -1.391069 -2.334075  1.168644  ... -1.231634  0.257164 -0.371953   \n",
       "\n",
       "             V24       V25       V26       V27       V28  Amount  Class  \n",
       "49906  -1.156992  0.311211 -0.746647  0.040996  0.102038  520.12      0  \n",
       "29474  -0.810250  0.505083 -0.232340  0.011409  0.004634   31.00      0  \n",
       "276481 -0.017171 -0.207392 -0.157756 -0.237386  0.001934    1.50      0  \n",
       "278846  0.061561 -0.360196  0.174730 -0.078043 -0.070571    0.89      0  \n",
       "101565 -0.038566  1.397514 -0.665947  0.031003  0.180357  100.00      0  \n",
       "\n",
       "[5 rows x 31 columns]"
      ]
     },
     "execution_count": 10,
     "metadata": {},
     "output_type": "execute_result"
    }
   ],
   "source": [
    "legit.head()"
   ]
  },
  {
   "cell_type": "code",
   "execution_count": 11,
   "id": "b6c4a148",
   "metadata": {},
   "outputs": [
    {
     "data": {
      "text/plain": [
       "0    28435\n",
       "1       46\n",
       "Name: Class, dtype: int64"
      ]
     },
     "execution_count": 11,
     "metadata": {},
     "output_type": "execute_result"
    }
   ],
   "source": [
    "df_new['Class'].value_counts()"
   ]
  },
  {
   "cell_type": "code",
   "execution_count": 12,
   "id": "2e51181c",
   "metadata": {},
   "outputs": [],
   "source": [
    "#it is still imbalanced and we are not going to use undersampling as we will use isolation forest and it will take care of it.\n",
    "#creating dependent and independent variable\n",
    "x=df_new.drop('Class',axis=1)\n",
    "y=df_new['Class']"
   ]
  },
  {
   "cell_type": "code",
   "execution_count": 13,
   "id": "fc5eca3a",
   "metadata": {},
   "outputs": [],
   "source": [
    "#model building and training \n",
    "from sklearn.ensemble import IsolationForest"
   ]
  },
  {
   "cell_type": "code",
   "execution_count": 30,
   "id": "f5ab3e6c",
   "metadata": {},
   "outputs": [],
   "source": [
    "iso_for=IsolationForest()"
   ]
  },
  {
   "cell_type": "code",
   "execution_count": 16,
   "id": "ff392de1",
   "metadata": {},
   "outputs": [
    {
     "data": {
      "text/plain": [
       "IsolationForest()"
      ]
     },
     "execution_count": 16,
     "metadata": {},
     "output_type": "execute_result"
    }
   ],
   "source": [
    "iso_for.fit(x)"
   ]
  },
  {
   "cell_type": "code",
   "execution_count": 19,
   "id": "83e5d329",
   "metadata": {},
   "outputs": [],
   "source": [
    "y_pred=iso_for.predict(x)"
   ]
  },
  {
   "cell_type": "code",
   "execution_count": 20,
   "id": "63ce3f6a",
   "metadata": {},
   "outputs": [],
   "source": [
    "#Reshaping the prediction values\n",
    "y_pred[y_pred==1]=0\n",
    "y_pred[y_pred==-1]=1"
   ]
  },
  {
   "cell_type": "code",
   "execution_count": 28,
   "id": "839d9a9f",
   "metadata": {},
   "outputs": [
    {
     "data": {
      "text/plain": [
       "array([-0.20938058,  0.0501259 ,  0.11307249, ...,  0.09089604,\n",
       "        0.12896578,  0.09491383])"
      ]
     },
     "execution_count": 28,
     "metadata": {},
     "output_type": "execute_result"
    }
   ],
   "source": [
    "score_prediction=iso_for.decision_function(x)\n",
    "score_prediction"
   ]
  },
  {
   "cell_type": "code",
   "execution_count": 21,
   "id": "ee86b858",
   "metadata": {},
   "outputs": [],
   "source": [
    "from sklearn.metrics import accuracy_score,classification_report,confusion_matrix"
   ]
  },
  {
   "cell_type": "code",
   "execution_count": 22,
   "id": "31295989",
   "metadata": {},
   "outputs": [
    {
     "data": {
      "text/plain": [
       "0.9616937607527826"
      ]
     },
     "execution_count": 22,
     "metadata": {},
     "output_type": "execute_result"
    }
   ],
   "source": [
    "accuracy_score(y,y_pred)"
   ]
  },
  {
   "cell_type": "code",
   "execution_count": 24,
   "id": "4aa2fe4b",
   "metadata": {},
   "outputs": [
    {
     "name": "stdout",
     "output_type": "stream",
     "text": [
      "              precision    recall  f1-score   support\n",
      "\n",
      "           0       1.00      0.96      0.98     28435\n",
      "           1       0.04      0.87      0.07        46\n",
      "\n",
      "    accuracy                           0.96     28481\n",
      "   macro avg       0.52      0.92      0.52     28481\n",
      "weighted avg       1.00      0.96      0.98     28481\n",
      "\n"
     ]
    }
   ],
   "source": [
    "print(classification_report(y,y_pred))"
   ]
  },
  {
   "cell_type": "code",
   "execution_count": 25,
   "id": "ed828b7d",
   "metadata": {},
   "outputs": [
    {
     "name": "stdout",
     "output_type": "stream",
     "text": [
      "[[27350  1085]\n",
      " [    6    40]]\n"
     ]
    }
   ],
   "source": [
    "print(confusion_matrix(y,y_pred))"
   ]
  },
  {
   "cell_type": "code",
   "execution_count": 31,
   "id": "dacb3e2a",
   "metadata": {},
   "outputs": [],
   "source": [
    "n_error=(y!=y_pred).sum()"
   ]
  },
  {
   "cell_type": "code",
   "execution_count": 33,
   "id": "330dea25",
   "metadata": {},
   "outputs": [
    {
     "name": "stdout",
     "output_type": "stream",
     "text": [
      "Number of outliers: 1091\n"
     ]
    }
   ],
   "source": [
    "print('Number of outliers:',n_error)"
   ]
  },
  {
   "cell_type": "code",
   "execution_count": null,
   "id": "bfc25654",
   "metadata": {},
   "outputs": [],
   "source": []
  }
 ],
 "metadata": {
  "kernelspec": {
   "display_name": "Python 3",
   "language": "python",
   "name": "python3"
  },
  "language_info": {
   "codemirror_mode": {
    "name": "ipython",
    "version": 3
   },
   "file_extension": ".py",
   "mimetype": "text/x-python",
   "name": "python",
   "nbconvert_exporter": "python",
   "pygments_lexer": "ipython3",
   "version": "3.8.8"
  }
 },
 "nbformat": 4,
 "nbformat_minor": 5
}
